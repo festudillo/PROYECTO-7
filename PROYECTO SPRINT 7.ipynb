{
 "cells": [
  {
   "cell_type": "markdown",
   "metadata": {},
   "source": [
    "# Hola &#x1F600;\n",
    "\n",
    "Soy **Hesus Garcia**  como \"Jesús\" pero con H. Sé que puede ser confuso al principio, pero una vez que lo recuerdes, ¡nunca lo olvidarás! &#x1F31D;\t. Como revisor de código de Practicum, estoy emocionado de examinar tus proyectos y ayudarte a mejorar tus habilidades en programación. si has cometido algún error, no te preocupes, pues ¡estoy aquí para ayudarte a corregirlo y hacer que tu código brille! &#x1F31F;. Si encuentro algún detalle en tu código, te lo señalaré para que lo corrijas, ya que mi objetivo es ayudarte a prepararte para un ambiente de trabajo real, donde el líder de tu equipo actuaría de la misma manera. Si no puedes solucionar el problema, te proporcionaré más información en la próxima oportunidad. Cuando encuentres un comentario,  **por favor, no los muevas, no los modifiques ni los borres**. \n",
    "\n",
    "Revisaré cuidadosamente todas las implementaciones que has realizado para cumplir con los requisitos y te proporcionaré mis comentarios de la siguiente manera:\n",
    "\n",
    "\n",
    "<div class=\"alert alert-block alert-success\">\n",
    "<b>Comentario del revisor</b> <a class=“tocSkip”></a>\n",
    "Si todo está perfecto.\n",
    "</div>\n",
    "\n",
    "<div class=\"alert alert-block alert-warning\">\n",
    "<b>Comentario del revisor</b> <a class=“tocSkip”></a>\n",
    "Si tu código está bien pero se puede mejorar o hay algún detalle que le hace falta.\n",
    "</div>\n",
    "\n",
    "<div class=\"alert alert-block alert-danger\">\n",
    "<b>Comentario del revisor</b> <a class=“tocSkip”></a>\n",
    "Si de pronto hace falta algo o existe algún problema con tu código o conclusiones.\n",
    "</div>\n",
    "\n",
    "Puedes responderme de esta forma:\n",
    "<div class=\"alert alert-block alert-info\">\n",
    "<b>Respuesta del estudiante</b> <a class=“tocSkip”></a>\n",
    "</div>\n",
    "\n",
    "</br>\n",
    "\n",
    "**¡Empecemos!**  &#x1F680;"
   ]
  },
  {
   "cell_type": "markdown",
   "metadata": {},
   "source": [
    "### Archivo de datos"
   ]
  },
  {
   "cell_type": "code",
   "execution_count": 2,
   "metadata": {},
   "outputs": [],
   "source": [
    "import pandas as pd\n",
    "import numpy as np\n",
    "import math\n",
    "import matplotlib.pyplot as plt\n",
    "from scipy import stats as st\n",
    "from sklearn.tree import DecisionTreeClassifier\n",
    "from joblib import dump\n",
    "from sklearn.model_selection import train_test_split\n",
    "from sklearn.ensemble import RandomForestClassifier\n",
    "from sklearn.linear_model import LogisticRegression\n",
    "from sklearn.metrics import mean_squared_error\n",
    "\n",
    "# Confusion Matrix\n",
    "from sklearn.metrics import confusion_matrix\n",
    "\n",
    "# Accuracy\n",
    "from sklearn.metrics import accuracy_score\n",
    "\n",
    "# Recall\n",
    "from sklearn.metrics import recall_score\n",
    "\n",
    "# Precision\n",
    "from sklearn.metrics import precision_score\n",
    "\n",
    "#F1 Score\n",
    "from sklearn.metrics import f1_score\n",
    "\n",
    "#Classification Report\n",
    "from sklearn.metrics import classification_report"
   ]
  },
  {
   "cell_type": "markdown",
   "metadata": {},
   "source": [
    "<div class=\"alert alert-block alert-success\">\n",
    "    <b>Comentarios del Revisor</b> <a class=\"tocSkip\"></a><br>\n",
    "    Excelente trabajo en tu sección de imports de Python. Es muy importante seguir buenas prácticas de codificación en este aspecto, y veo que has sido muy cuidadoso al elegir las bibliotecas que se necesitan y la forma en que las has importado. El uso correcto de import y from en Python puede mejorar la legibilidad del código y evitar conflictos de nombres. Continúa con el buen trabajo! </div>"
   ]
  },
  {
   "cell_type": "code",
   "execution_count": 3,
   "metadata": {},
   "outputs": [],
   "source": [
    "df = pd.read_csv('/datasets/users_behavior.csv')"
   ]
  },
  {
   "cell_type": "code",
   "execution_count": 4,
   "metadata": {},
   "outputs": [
    {
     "name": "stdout",
     "output_type": "stream",
     "text": [
      "<class 'pandas.core.frame.DataFrame'>\n",
      "RangeIndex: 3214 entries, 0 to 3213\n",
      "Data columns (total 5 columns):\n",
      " #   Column    Non-Null Count  Dtype  \n",
      "---  ------    --------------  -----  \n",
      " 0   calls     3214 non-null   float64\n",
      " 1   minutes   3214 non-null   float64\n",
      " 2   messages  3214 non-null   float64\n",
      " 3   mb_used   3214 non-null   float64\n",
      " 4   is_ultra  3214 non-null   int64  \n",
      "dtypes: float64(4), int64(1)\n",
      "memory usage: 125.7 KB\n"
     ]
    }
   ],
   "source": [
    "df.info()"
   ]
  },
  {
   "cell_type": "code",
   "execution_count": 5,
   "metadata": {},
   "outputs": [
    {
     "data": {
      "text/html": [
       "<div>\n",
       "<style scoped>\n",
       "    .dataframe tbody tr th:only-of-type {\n",
       "        vertical-align: middle;\n",
       "    }\n",
       "\n",
       "    .dataframe tbody tr th {\n",
       "        vertical-align: top;\n",
       "    }\n",
       "\n",
       "    .dataframe thead th {\n",
       "        text-align: right;\n",
       "    }\n",
       "</style>\n",
       "<table border=\"1\" class=\"dataframe\">\n",
       "  <thead>\n",
       "    <tr style=\"text-align: right;\">\n",
       "      <th></th>\n",
       "      <th>calls</th>\n",
       "      <th>minutes</th>\n",
       "      <th>messages</th>\n",
       "      <th>mb_used</th>\n",
       "      <th>is_ultra</th>\n",
       "    </tr>\n",
       "  </thead>\n",
       "  <tbody>\n",
       "    <tr>\n",
       "      <th>0</th>\n",
       "      <td>40.0</td>\n",
       "      <td>311.90</td>\n",
       "      <td>83.0</td>\n",
       "      <td>19915.42</td>\n",
       "      <td>0</td>\n",
       "    </tr>\n",
       "    <tr>\n",
       "      <th>1</th>\n",
       "      <td>85.0</td>\n",
       "      <td>516.75</td>\n",
       "      <td>56.0</td>\n",
       "      <td>22696.96</td>\n",
       "      <td>0</td>\n",
       "    </tr>\n",
       "    <tr>\n",
       "      <th>2</th>\n",
       "      <td>77.0</td>\n",
       "      <td>467.66</td>\n",
       "      <td>86.0</td>\n",
       "      <td>21060.45</td>\n",
       "      <td>0</td>\n",
       "    </tr>\n",
       "    <tr>\n",
       "      <th>3</th>\n",
       "      <td>106.0</td>\n",
       "      <td>745.53</td>\n",
       "      <td>81.0</td>\n",
       "      <td>8437.39</td>\n",
       "      <td>1</td>\n",
       "    </tr>\n",
       "    <tr>\n",
       "      <th>4</th>\n",
       "      <td>66.0</td>\n",
       "      <td>418.74</td>\n",
       "      <td>1.0</td>\n",
       "      <td>14502.75</td>\n",
       "      <td>0</td>\n",
       "    </tr>\n",
       "  </tbody>\n",
       "</table>\n",
       "</div>"
      ],
      "text/plain": [
       "   calls  minutes  messages   mb_used  is_ultra\n",
       "0   40.0   311.90      83.0  19915.42         0\n",
       "1   85.0   516.75      56.0  22696.96         0\n",
       "2   77.0   467.66      86.0  21060.45         0\n",
       "3  106.0   745.53      81.0   8437.39         1\n",
       "4   66.0   418.74       1.0  14502.75         0"
      ]
     },
     "execution_count": 5,
     "metadata": {},
     "output_type": "execute_result"
    }
   ],
   "source": [
    "df.head()"
   ]
  },
  {
   "cell_type": "markdown",
   "metadata": {},
   "source": [
    "### Segmentación de los datos fuente"
   ]
  },
  {
   "cell_type": "code",
   "execution_count": 6,
   "metadata": {},
   "outputs": [],
   "source": [
    "features = df.drop(['is_ultra'], axis=1)\n",
    "target = df['is_ultra']"
   ]
  },
  {
   "cell_type": "markdown",
   "metadata": {},
   "source": [
    "#### Segmentación conjunto de validación, conjunto de entrenamiento y conjunto de prueba."
   ]
  },
  {
   "cell_type": "code",
   "execution_count": 7,
   "metadata": {},
   "outputs": [],
   "source": [
    "df_train, df_valid  = train_test_split(df, test_size=0.25, random_state=12345)"
   ]
  },
  {
   "cell_type": "code",
   "execution_count": 8,
   "metadata": {},
   "outputs": [],
   "source": [
    "df_train, df_test  = train_test_split(df, test_size=0.25, random_state=12345)"
   ]
  },
  {
   "cell_type": "markdown",
   "metadata": {},
   "source": [
    "####  Conjunto de entrenamiento"
   ]
  },
  {
   "cell_type": "code",
   "execution_count": 9,
   "metadata": {},
   "outputs": [],
   "source": [
    "train_features = df_train.drop(['is_ultra'], axis=1)\n",
    "train_target = df_train['is_ultra']"
   ]
  },
  {
   "cell_type": "markdown",
   "metadata": {},
   "source": [
    "#### Conjunto de validación"
   ]
  },
  {
   "cell_type": "code",
   "execution_count": 10,
   "metadata": {},
   "outputs": [],
   "source": [
    "valid_features = df_valid.drop(['is_ultra'], axis=1)\n",
    "valid_target = df_valid['is_ultra']"
   ]
  },
  {
   "cell_type": "markdown",
   "metadata": {},
   "source": [
    "#### Conjunto de prueba ###"
   ]
  },
  {
   "cell_type": "code",
   "execution_count": 11,
   "metadata": {},
   "outputs": [],
   "source": [
    "test_features = df_test.drop(['is_ultra'], axis=1)\n",
    "test_target = df_test['is_ultra']"
   ]
  },
  {
   "cell_type": "markdown",
   "metadata": {},
   "source": [
    "### Calidad de los modelos"
   ]
  },
  {
   "cell_type": "markdown",
   "metadata": {},
   "source": [
    "#### Calidad del modelo de árbol de decisión con el conjunto de entrenamiento"
   ]
  },
  {
   "cell_type": "markdown",
   "metadata": {},
   "source": [
    "##### Calidad con diferentes hiperparámetros."
   ]
  },
  {
   "cell_type": "markdown",
   "metadata": {},
   "source": [
    "###### Hiperparámetro min_samples_leaf"
   ]
  },
  {
   "cell_type": "code",
   "execution_count": 12,
   "metadata": {
    "scrolled": true
   },
   "outputs": [
    {
     "name": "stdout",
     "output_type": "stream",
     "text": [
      "min_samples_leaf = 1 : 0.7213930348258707\n",
      "min_samples_leaf = 2 : 0.7251243781094527\n",
      "min_samples_leaf = 3 : 0.7288557213930348\n",
      "min_samples_leaf = 4 : 0.7338308457711443\n",
      "min_samples_leaf = 5 : 0.746268656716418\n"
     ]
    }
   ],
   "source": [
    "for samples_leaf in range(1, 6):\n",
    "    model = DecisionTreeClassifier(ccp_alpha=0.0, class_weight=None, criterion='gini',\n",
    "                       max_depth=None, max_features=None, max_leaf_nodes=None,\n",
    "                       min_impurity_decrease=0.0, min_impurity_split=None,\n",
    "                       min_samples_leaf=samples_leaf, min_samples_split=2,\n",
    "                       min_weight_fraction_leaf=0.0, random_state=12345,\n",
    "                       splitter='best')\n",
    "    model.fit(train_features, train_target)\n",
    "    predictions = model.predict(valid_features)\n",
    "    print('min_samples_leaf =', samples_leaf, ': ', end='')\n",
    "    print(accuracy_score(valid_target, predictions))"
   ]
  },
  {
   "cell_type": "markdown",
   "metadata": {},
   "source": [
    "El aumento en la cantidad de hojas del árbol aumenta la calidad del modelo progresivamente, hasta lograr una exactitud de 0.7462 con un número de hojas igual a 5."
   ]
  },
  {
   "cell_type": "markdown",
   "metadata": {},
   "source": [
    "###### Hiperparámetro min_samples_split"
   ]
  },
  {
   "cell_type": "code",
   "execution_count": 13,
   "metadata": {},
   "outputs": [
    {
     "name": "stdout",
     "output_type": "stream",
     "text": [
      "min_samples_split = 2 : 0.7213930348258707\n",
      "min_samples_split = 3 : 0.7114427860696517\n",
      "min_samples_split = 4 : 0.7101990049751243\n",
      "min_samples_split = 5 : 0.7201492537313433\n"
     ]
    }
   ],
   "source": [
    "for samples_split in range(2, 6):\n",
    "    model = DecisionTreeClassifier(ccp_alpha=0.0, class_weight=None, criterion='gini',\n",
    "                       max_depth=None, max_features=None, max_leaf_nodes=None,\n",
    "                       min_impurity_decrease=0.0, min_impurity_split=None,\n",
    "                       min_samples_leaf=1, min_samples_split=samples_split,\n",
    "                       min_weight_fraction_leaf=0.0, random_state=12345,\n",
    "                       splitter='best')\n",
    "    model.fit(train_features, train_target)\n",
    "    predictions = model.predict(valid_features)\n",
    "    print('min_samples_split =', samples_split, ': ', end='')\n",
    "    print(accuracy_score(valid_target, predictions))"
   ]
  },
  {
   "cell_type": "markdown",
   "metadata": {},
   "source": [
    "El aumento en la partición de los nodos del árbol primero disminuye y luego aumenta la calidad del modelo progresivamente, hasta lograr una exactitud de 0.7201 en la cantidad de nodos igual a 5."
   ]
  },
  {
   "cell_type": "markdown",
   "metadata": {},
   "source": [
    "###### Hiperparámetro max_depth"
   ]
  },
  {
   "cell_type": "code",
   "execution_count": 14,
   "metadata": {
    "scrolled": true
   },
   "outputs": [
    {
     "name": "stdout",
     "output_type": "stream",
     "text": [
      "max_depth = 1 : 0.75\n",
      "max_depth = 2 : 0.7835820895522388\n",
      "max_depth = 3 : 0.7885572139303483\n",
      "max_depth = 4 : 0.7810945273631841\n",
      "max_depth = 5 : 0.7810945273631841\n"
     ]
    }
   ],
   "source": [
    "for depth in range(1, 6):\n",
    "    model = DecisionTreeClassifier(random_state=12345, max_depth=depth)\n",
    "    model.fit(train_features, train_target)\n",
    "    predictions = model.predict(valid_features)\n",
    "    print('max_depth =', depth, ': ', end='')\n",
    "    print(accuracy_score(valid_target, predictions))"
   ]
  },
  {
   "cell_type": "markdown",
   "metadata": {},
   "source": [
    "El aumento en la profundidad del árbol aumenta la calidad del modelo y posterior se deteriora, hasta lograr una exactitud de 0.7810 en la profundidad de árbol igual a 5."
   ]
  },
  {
   "cell_type": "markdown",
   "metadata": {},
   "source": [
    "En conclusión, se puede notar que el parámetro de profundidad es el que tiene la capacidad de mejorar la calidad de mayor manera de los tres hiperpaámetros probados en esta sección."
   ]
  },
  {
   "cell_type": "markdown",
   "metadata": {},
   "source": [
    "<div class=\"alert alert-block alert-success\">\n",
    "<b>Comentario del revisor</b> <a class=“tocSkip”></a>\n",
    "¡Muy bien! 👏👏 Los cálculos de esta sección están correctos y eso es un gran logro. Sigue así y verás cómo poco a poco te irás convirtiendo en un experto en esta área. 💪💻</div>"
   ]
  },
  {
   "cell_type": "markdown",
   "metadata": {},
   "source": [
    "#### Calidad del modelo de bosque aleatorio con el conjunto de entrenamiento"
   ]
  },
  {
   "cell_type": "code",
   "execution_count": 15,
   "metadata": {},
   "outputs": [
    {
     "name": "stdout",
     "output_type": "stream",
     "text": [
      "Exactitud del mejor modelo en el conjunto de entrenamiento (n_estimators = 4): 0.7885572139303483\n"
     ]
    }
   ],
   "source": [
    "best_score = 0\n",
    "best_est = 0\n",
    "for est in range(1, 11):\n",
    "    model = RandomForestClassifier(random_state=54321, n_estimators=est)\n",
    "    model.fit(train_features, train_target)\n",
    "    #test_predictions = model.predict(valid_features)\n",
    "    score = model.score(valid_features, valid_target)\n",
    "    if score > best_score:\n",
    "        best_score = score\n",
    "        best_est = est\n",
    "\n",
    "print(\"Exactitud del mejor modelo en el conjunto de entrenamiento (n_estimators = {}): {}\".format(best_est, best_score))"
   ]
  },
  {
   "cell_type": "markdown",
   "metadata": {},
   "source": [
    "La calidad del modelo mejora utilizando bosque aleatorio ajustando el hiperparámetro de estimadores en 4, para quedar en 0.7885"
   ]
  },
  {
   "cell_type": "markdown",
   "metadata": {},
   "source": [
    "#### Calidad del modelo de regresión logística con el conjunto de entrenamiento"
   ]
  },
  {
   "cell_type": "code",
   "execution_count": 16,
   "metadata": {},
   "outputs": [
    {
     "name": "stdout",
     "output_type": "stream",
     "text": [
      "Exactitud del modelo de regresión logística en el conjunto de entrenamiento: 0.74149377593361\n",
      "Exactitud del modelo de regresión logística en el conjunto de validación: 0.753731343283582\n"
     ]
    }
   ],
   "source": [
    "model = LogisticRegression(random_state=54321, solver='liblinear')\n",
    "model.fit(train_features, train_target)\n",
    "score_train = model.score(train_features, train_target)\n",
    "score_valid = model.score(valid_features, valid_target)\n",
    "\n",
    "print(\"Exactitud del modelo de regresión logística en el conjunto de entrenamiento:\", score_train)\n",
    "print(\"Exactitud del modelo de regresión logística en el conjunto de validación:\", score_valid)"
   ]
  },
  {
   "cell_type": "markdown",
   "metadata": {},
   "source": [
    "La calidad del modelo es menor utilizando la regresión logística, quedando para el conjunto de validación en 0.7537 que es inferior al modelo probado anteriormente. "
   ]
  },
  {
   "cell_type": "markdown",
   "metadata": {},
   "source": [
    "En conclusión, el modelo que mejor calidad arroja es el de bosque aleatorio con 4 estimadores. Por encima del modelo de árbol de decisión y regresión logística."
   ]
  },
  {
   "cell_type": "markdown",
   "metadata": {},
   "source": [
    "#### Calidad del modelo con el conjunto de prueba"
   ]
  },
  {
   "cell_type": "markdown",
   "metadata": {},
   "source": [
    "##### Predicción con hiperparámetro de profundidad"
   ]
  },
  {
   "cell_type": "code",
   "execution_count": 17,
   "metadata": {},
   "outputs": [
    {
     "name": "stdout",
     "output_type": "stream",
     "text": [
      "max_depth = 1 : 0.75\n",
      "max_depth = 2 : 0.7835820895522388\n",
      "max_depth = 3 : 0.7885572139303483\n",
      "max_depth = 4 : 0.7810945273631841\n",
      "max_depth = 5 : 0.7810945273631841\n"
     ]
    }
   ],
   "source": [
    "for depth in range(1, 6):\n",
    "    model = DecisionTreeClassifier(random_state=12345, max_depth=depth)\n",
    "    model.fit(train_features, train_target)\n",
    "    test_predictions = model.predict(test_features)\n",
    "    print('max_depth =', depth, ': ', end='')\n",
    "    print(accuracy_score(test_target, test_predictions))"
   ]
  },
  {
   "cell_type": "code",
   "execution_count": 18,
   "metadata": {},
   "outputs": [
    {
     "name": "stdout",
     "output_type": "stream",
     "text": [
      "Exactitud del mejor modelo en el conjunto de prueba: 0.7885572139303483\n"
     ]
    }
   ],
   "source": [
    "best_model = None\n",
    "best_result = 0\n",
    "for depth in range(1, 6):\n",
    "\tmodel = DecisionTreeClassifier(random_state=12345, max_depth=depth)\n",
    "\tmodel.fit(train_features, train_target)\n",
    "\ttest_predictions = model.predict(test_features)\n",
    "\tresult = accuracy_score(test_target, test_predictions)\n",
    "\tif result > best_result:\n",
    "\t\tbest_model = model\n",
    "\t\tbest_result = result\n",
    "        \n",
    "print(\"Exactitud del mejor modelo en el conjunto de prueba:\", best_result) "
   ]
  },
  {
   "cell_type": "markdown",
   "metadata": {},
   "source": [
    "La exactitud del mejor modelo en el conjunto de prueba es mejor que aquellos evaluados anteriormente con el conjunto de entrenamiento. Esto indica que el modelo de entrnamiento tiene un subajuste respecto al modelo de prueba.\n",
    "\n",
    "Nota: se utilizaron los datos de prueba tanto para ajustar el modelo (model.fit) como para hacer las predicciones (model.predict)."
   ]
  },
  {
   "cell_type": "code",
   "execution_count": 19,
   "metadata": {},
   "outputs": [
    {
     "name": "stdout",
     "output_type": "stream",
     "text": [
      "Errores: 176\n"
     ]
    }
   ],
   "source": [
    "def error_count(answers, predictions):\n",
    "    count = 0\n",
    "    for i in range(len(answers)):\n",
    "        if answers[i] != predictions[i]:\n",
    "            count += 1\n",
    "    return count\n",
    "\n",
    "print('Errores:', error_count(test_target.values, test_predictions))"
   ]
  },
  {
   "cell_type": "markdown",
   "metadata": {},
   "source": [
    "<div class=\"alert alert-block alert-danger\">\n",
    "<b>Comentario del revisor</b> <a class=“tocSkip”></a><s>\n",
    "En esta sección es necesario evaluar el modelo utilizando métodos como classification_report() o la mátriz de confusión. Sigue así y verás cómo poco a poco te irás convirtiendo en un experto en esta área. 💪💻</div>"
   ]
  },
  {
   "cell_type": "markdown",
   "metadata": {},
   "source": [
    "#### Prueba de cordura del conjunto de prueba"
   ]
  },
  {
   "cell_type": "code",
   "execution_count": 20,
   "metadata": {
    "scrolled": true
   },
   "outputs": [
    {
     "name": "stdout",
     "output_type": "stream",
     "text": [
      "Exactitud: 0.7810945273631841\n",
      "Sensibilidad: 0.4066390041493776\n",
      "Precision: 0.7480916030534351\n",
      "Puntaje F1: 0.5268817204301075\n"
     ]
    }
   ],
   "source": [
    "# Accuracy\n",
    "print('Exactitud:', accuracy_score(test_target, test_predictions))\n",
    "# Recall\n",
    "print('Sensibilidad:', recall_score(test_target, test_predictions))\n",
    "# Precision\n",
    "print('Precision:', precision_score(test_target, test_predictions))\n",
    "# F1 Score\n",
    "print('Puntaje F1:', f1_score(test_target, test_predictions))"
   ]
  },
  {
   "cell_type": "code",
   "execution_count": 21,
   "metadata": {},
   "outputs": [
    {
     "name": "stdout",
     "output_type": "stream",
     "text": [
      "              precision    recall  f1-score   support\n",
      "\n",
      "           0       0.79      0.94      0.86       563\n",
      "           1       0.75      0.41      0.53       241\n",
      "\n",
      "    accuracy                           0.78       804\n",
      "   macro avg       0.77      0.67      0.69       804\n",
      "weighted avg       0.78      0.78      0.76       804\n",
      "\n"
     ]
    }
   ],
   "source": [
    "print(classification_report(test_target, test_predictions))"
   ]
  },
  {
   "cell_type": "markdown",
   "metadata": {},
   "source": [
    "- La sensibilidad indica la proporción de instancias positivas reales que se recuperaron de la suma de positivos reales y negativos falsos, ésta se encuentra en 0.49 lo que indica que solamente se identificaron la mitad de positivos reales (1).\n",
    "\n",
    "- La precisión es  la proporción de instancias positivas entre la suma de instancias de positivos verdaderos y positivos falsos. Éste se encuentra en  0.92 lo que indica que la mayoría de las identificaciones positivas son realmente correctas.\n",
    "\n",
    "- El puntaje F1 es la media armónica ponderada de la precisión y la sensibilidad, mientras más se acerque a 1 mejor será el desempeño del modelo. Éste se encuentra en 0.64, por lo que el desempeño del modelo es bajo."
   ]
  },
  {
   "cell_type": "markdown",
   "metadata": {},
   "source": [
    "<div class=\"alert alert-block alert-danger\">\n",
    "<b>Comentario del revisor</b> <a class=“tocSkip”></a> \n",
    "    <s>¡Excelente trabajo por implementar la prueba de cordura en tu modelo de aprendizaje automático! Sin embargo, es importante tener en cuenta que el desempeño de nuestro modelo no se limita solo a su capacidad para predecir datos de prueba. También debemos considerar cómo se comporta en datos nuevos y no vistos. Es por eso que es crucial revisar la precisión del modelo y asegurarnos de que no esté sobreajustando los datos de entrenamiento.\n",
    "\n",
    "Un puntaje de 1.0 en precisión puede indicar que nuestro modelo está sobreajustando los datos de entrenamiento y que no es lo suficientemente generalizable para datos nuevos. Por lo tanto, debemos considerar ajustar nuestros modelos o implementar técnicas de regularización para evitar el sobreajuste y mejorar su capacidad para predecir datos nuevos y no vistos. ¡Sigue así y sigue mejorando tus habilidades de análisis de datos!</div>"
   ]
  },
  {
   "cell_type": "markdown",
   "metadata": {},
   "source": [
    "<div class=\"alert alert-block alert-danger\">\n",
    "<b>Comentario del revisor</b> <a class=“tocSkip”></a><br> ¡Excelente trabajo por implementar la prueba de cordura en <s>¡Hola! Gracias por compartir tu proyecto conmigo. \n",
    "En general, veo que has trabajado bien en el análisis exploratorio de datos y en la implementación de varios modelos de aprendizaje automático. <br>\n",
    "\n",
    "Aún hay un par de cosas con las que debemos mejorar así que te recomiendo lo siguiente: \n",
    "   \n",
    "- Revisaremos  la función de evaluación de calidad del modelo, ya que esto puede influir en los resultados que has obtenido.\n",
    "\n",
    "- Incluiremos otros dos modelos y los optimizaremos con hiperparametros.\n",
    "    \n",
    "En resumen, sigue adelante y continúa mejorando tu proyecto. ¡Estoy seguro de que lo harás bien! No dudes en preguntar si necesitas ayuda adicional.\n",
    "\n",
    "</div>"
   ]
  },
  {
   "cell_type": "markdown",
   "metadata": {},
   "source": [
    "<div class=\"alert alert-block alert-danger\">\n",
    "<b>Comentario del revisor</b> <a class=“tocSkip”></a><br> \n",
    "Hola, muchas gracias por las correciones, has implementado de muy buena forma todas las recomendaciones. Muy buen trabajo. :)  \n",
    "    \n",
    "Sin embargo aún debemos trabajar en el punto dos que hemos señalado. Recuerda que demos incluir otros dos modelos. Tal y como lo menciona el siguiente punto de las instrucciones del proyecto. \n",
    "    \n",
    "Investiga la calidad de diferentes modelos cambiando los hiperparámetros. Describe brevemente los hallazgos del estudio.\n",
    "    \n",
    "Sigo atento a tus correciones. \n",
    "    \n",
    "</div>"
   ]
  },
  {
   "cell_type": "markdown",
   "metadata": {},
   "source": [
    "<div class=\"alert alert-block alert-success\">\n",
    "<b>Comentario del revisor</b> <a class=“tocSkip”></a><br> \n",
    "Haz realizado las correcciones pertinentes gracias. \n",
    "    \n",
    "</div>"
   ]
  }
 ],
 "metadata": {
  "kernelspec": {
   "display_name": "Python 3 (ipykernel)",
   "language": "python",
   "name": "python3"
  },
  "language_info": {
   "codemirror_mode": {
    "name": "ipython",
    "version": 3
   },
   "file_extension": ".py",
   "mimetype": "text/x-python",
   "name": "python",
   "nbconvert_exporter": "python",
   "pygments_lexer": "ipython3",
   "version": "3.9.5"
  },
  "toc": {
   "base_numbering": 1,
   "nav_menu": {},
   "number_sections": true,
   "sideBar": true,
   "skip_h1_title": true,
   "title_cell": "Table of Contents",
   "title_sidebar": "Contents",
   "toc_cell": false,
   "toc_position": {},
   "toc_section_display": true,
   "toc_window_display": false
  }
 },
 "nbformat": 4,
 "nbformat_minor": 2
}
